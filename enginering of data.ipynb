{
 "cells": [
  {
   "cell_type": "code",
   "execution_count": 1,
   "id": "675ec788-c1b0-432f-b2da-1995dd7956c6",
   "metadata": {
    "tags": []
   },
   "outputs": [],
   "source": [
    "import pandas as pd"
   ]
  },
  {
   "cell_type": "code",
   "execution_count": 2,
   "id": "2d34aaa3-6f8a-4e99-8eb6-3b69a50501f9",
   "metadata": {},
   "outputs": [],
   "source": [
    "df1 = pd.read_csv('synonyms1.csv')\n",
    "df1.head()"
   ]
  },
  {
   "cell_type": "code",
   "execution_count": 3,
   "id": "d9bf3756-5ad9-4642-8199-6125f8431802",
   "metadata": {},
   "outputs": [],
   "source": [
    "# dropping of rows\n",
    "df1 = df1.drop(df1.index[range(52)])"
   ]
  },
  {
   "cell_type": "code",
   "execution_count": 4,
   "id": "353734bc-f6b3-4507-a53b-4d8568b423c7",
   "metadata": {},
   "outputs": [],
   "source": [
    "df1 = df1.drop([df1.index[-1], df1.index[-2],df1.index[-3]])"
   ]
  },
  {
   "cell_type": "code",
   "execution_count": 7,
   "id": "56741d0d-7ab6-434d-94a2-cc6d60ac711c",
   "metadata": {},
   "outputs": [],
   "source": [
    "# renaming columns\n",
    "df1 = df1.rename(columns = {'synonyms1': 'Synonyms'})"
   ]
  },
  {
   "cell_type": "code",
   "execution_count": 8,
   "id": "38c27021-887e-4859-be58-ad5f8281cf7f",
   "metadata": {},
   "outputs": [],
   "source": [
    "df1.head()"
   ]
  },
  {
   "cell_type": "code",
   "execution_count": 9,
   "id": "175be5e7-0c03-491b-9de9-8ffe5b7f65f7",
   "metadata": {},
   "outputs": [],
   "source": [
    "# creating a new column\n",
    "df1['Words']=[i.split('-')[0] for i in df1['Synonyms']]\n",
    "df1.head()"
   ]
  },
  {
   "cell_type": "code",
   "execution_count": 10,
   "id": "b23f957d-3ae8-4639-acbf-98616728d750",
   "metadata": {},
   "outputs": [],
   "source": [
    "df1['Synonyms']=[i.split('-')[-1] for i in df1['Synonyms']]"
   ]
  },
  {
   "cell_type": "code",
   "execution_count": 11,
   "id": "230a7cbc-866d-455c-86fc-133c18f39b2d",
   "metadata": {},
   "outputs": [],
   "source": [
    "df1 = df1.set_index('Words')"
   ]
  },
  {
   "cell_type": "code",
   "execution_count": 12,
   "id": "6f07d35d-c6a7-430f-a777-71979ca990c9",
   "metadata": {},
   "outputs": [],
   "source": [
    "# uppercasing the first letter\n",
    "df1['Synonyms'] = df1['Synonyms'].str.title()"
   ]
  },
  {
   "cell_type": "code",
   "execution_count": 13,
   "id": "a9d75a77-2d77-43f4-9eef-851d7a397db6",
   "metadata": {},
   "outputs": [],
   "source": [
    "# changing of index\n",
    "df1.reset_index(drop = True)\n",
    "df1.head()"
   ]
  },
  {
   "cell_type": "code",
   "execution_count": 14,
   "id": "fb431ae5-e417-4844-b47c-36e0c2b56613",
   "metadata": {},
   "outputs": [],
   "source": [
    "df2 = pd.read_csv('synonyms2.csv')"
   ]
  },
  {
   "cell_type": "code",
   "execution_count": 15,
   "id": "ee8abcd0-2b85-4f85-8205-5f9211c2f399",
   "metadata": {},
   "outputs": [],
   "source": [
    "df2 = df2.rename(columns = {'synonyms2': 'Synonyms'})"
   ]
  },
  {
   "cell_type": "code",
   "execution_count": 16,
   "id": "45a4a003-eff4-400c-af9a-c8d5772bfeb8",
   "metadata": {},
   "outputs": [],
   "source": [
    "df2['Synonyms'] = df2['Synonyms'].str.replace(('<—>'),'-')\n",
    "df2.head()"
   ]
  },
  {
   "cell_type": "code",
   "execution_count": 17,
   "id": "57c6045f-43f1-48e9-ac26-590567607682",
   "metadata": {},
   "outputs": [],
   "source": [
    "df2['Words']=[i.split('-')[0] for i in df2['Synonyms']]\n",
    "df2['Synonyms']=[i.split('-')[-1] for i in df2['Synonyms']]"
   ]
  },
  {
   "cell_type": "code",
   "execution_count": 18,
   "id": "d79e65d2-15f6-4f1e-860c-ba711d9259f1",
   "metadata": {},
   "outputs": [],
   "source": [
    "df2 = df2.set_index('Words')\n",
    "df2.head()"
   ]
  },
  {
   "cell_type": "code",
   "execution_count": 19,
   "id": "6287dd13-4ed4-4163-ad2a-cd2a1fc17f80",
   "metadata": {},
   "outputs": [],
   "source": [
    "# joining to data together\n",
    "df3 = pd.concat([df1,df2])\n",
    "df3.sort_values(by='Words', ascending = False)\n",
    "df3.reset_index(drop = True)\n",
    "df3.head()"
   ]
  },
  {
   "cell_type": "code",
   "execution_count": 20,
   "id": "74f4163e-3e2d-4af8-8546-8f0ad71348b7",
   "metadata": {},
   "outputs": [],
   "source": [
    "# changing of colunm\n",
    "first_column = df3.pop('Words')\n",
    "df3.insert(0, 'Words', first_column)"
   ]
  },
  {
   "cell_type": "code",
   "execution_count": 21,
   "id": "964acb61-9f77-4a99-9ff4-5f93199d9d20",
   "metadata": {},
   "outputs": [],
   "source": [
    "# saving to csv files\n",
    "df3.to_csv(\"Word_.csv\", index = False)\n",
    "df3 = pd.read_csv(\"Word_.csv\")\n",
    "df3 = df3.append({\"Word_\" : df3}, ignore_index = True)"
   ]
  }
 ],
 "metadata": {
  "kernelspec": {
   "display_name": "Python 3",
   "language": "python",
   "name": "python3"
  },
  "language_info": {
   "codemirror_mode": {
    "name": "ipython",
    "version": 3
   },
   "file_extension": ".py",
   "mimetype": "text/x-python",
   "name": "python",
   "nbconvert_exporter": "python",
   "pygments_lexer": "ipython3",
   "version": "3.8.8"
  }
 },
 "nbformat": 4,
 "nbformat_minor": 5
}
